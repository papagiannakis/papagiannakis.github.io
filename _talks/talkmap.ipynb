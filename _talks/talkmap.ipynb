{
 "cells": [
  {
   "cell_type": "markdown",
   "metadata": {},
   "source": [
    "# Leaflet cluster map of talk locations\n",
    "\n",
    "Run this from the _talks/ directory, which contains .md files of all your talks. This scrapes the location YAML field from each .md file, geolocates it with geopy/Nominatim, and uses the getorg library to output data, HTML, and Javascript for a standalone cluster map."
   ]
  },
  {
   "cell_type": "code",
   "execution_count": 1,
   "metadata": {
    "collapsed": false
   },
   "outputs": [
    {
     "name": "stdout",
     "output_type": "stream",
     "text": [
      "IPywidgets and ipyleaflet support enabled.\n"
     ]
    }
   ],
   "source": [
    "#!pip install getorg --upgrade\n",
    "import glob\n",
    "import getorg\n",
    "from geopy import Nominatim"
   ]
  },
  {
   "cell_type": "code",
   "execution_count": 2,
   "metadata": {
    "collapsed": false
   },
   "outputs": [],
   "source": [
    "g = glob.glob(\"*.md\")"
   ]
  },
  {
   "cell_type": "code",
   "execution_count": 3,
   "metadata": {
    "collapsed": true
   },
   "outputs": [],
   "source": [
    "geocoder = Nominatim(user_agent=\"george.papagiannakis@gmail.com\")\n",
    "\n",
    "location_dict = {}\n",
    "location = \"\"\n",
    "permalink = \"\"\n",
    "title = \"\""
   ]
  },
  {
   "cell_type": "code",
   "execution_count": 4,
   "metadata": {
    "collapsed": false
   },
   "outputs": [
    {
     "name": "stdout",
     "output_type": "stream",
     "text": [
      "Palo Alto, CA \n",
      " Palo Alto, Santa Clara County, California, United States\n",
      "Crans Montana, Switzerland \n",
      " Crans-Montana, Sierre, Valais/Wallis, 3960, Schweiz/Suisse/Svizzera/Svizra\n",
      "Milan, Italy \n",
      " Milano, Lombardia, Italia\n",
      "Mountain View, CA \n",
      " Mountain View, Santa Clara County, California, United States\n",
      "Los Angeles, CA \n",
      " Los Angeles, Los Angeles County, California, United States\n",
      "Larnaca, Cyprus \n",
      " Δήμος Λάρνακας, Επαρχία Λάρνακας, Κύπρος, Κύπρος - Kıbrıs\n",
      "Campus Biotech, Geneva, Switzerland \n",
      " Campus Biotech, Pâquis, Genève, Schweiz/Suisse/Svizzera/Svizra\n",
      "Los Angeles, CA \n",
      " Los Angeles, Los Angeles County, California, United States\n",
      "Seville, Spain \n",
      " Sevilla, Andalucía, España\n",
      "Los Angeles, CA \n",
      " Los Angeles, Los Angeles County, California, United States\n",
      "Dubai, United Arab Emirates \n",
      " دبي, الإمارات العربية المتحدة\n",
      "online \n",
      " Online, Croix d'Argent, Montpellier, Hérault, Occitanie, France métropolitaine, France\n",
      "Geneva, Switzerland \n",
      " Genève, Schweiz/Suisse/Svizzera/Svizra\n",
      "Heidelberg, Germany \n",
      " Heidelberg, Baden-Württemberg, Deutschland\n",
      "Helsinki, Finland \n",
      " Helsinki, Helsingin seutukunta, Uusimaa, Manner-Suomi, Suomi / Finland\n",
      "Tokyo, Japan \n",
      " 東京都, 日本\n",
      "online \n",
      " Online, Croix d'Argent, Montpellier, Hérault, Occitanie, France métropolitaine, France\n",
      "Geneva, Switzerland \n",
      " Genève, Schweiz/Suisse/Svizzera/Svizra\n",
      "Yokohama, Japan \n",
      " 横浜市, 神奈川県, 231-0017, 日本\n",
      "Harvard University, Boston MA \n",
      " Harvard Business School, Kresge Way, Allston, Boston, Suffolk County, Massachusetts, 02163, United States\n"
     ]
    }
   ],
   "source": [
    "\n",
    "for file in g:\n",
    "    with open(file, 'r') as f:\n",
    "        lines = f.read()\n",
    "        if lines.find('location: \"') > 1:\n",
    "            loc_start = lines.find('location: \"') + 11\n",
    "            lines_trim = lines[loc_start:]\n",
    "            loc_end = lines_trim.find('\"')\n",
    "            location = lines_trim[:loc_end]\n",
    "                            \n",
    "           \n",
    "        location_dict[location] = geocoder.geocode(location)\n",
    "        print(location, \"\\n\", location_dict[location])\n"
   ]
  },
  {
   "cell_type": "code",
   "execution_count": 5,
   "metadata": {
    "collapsed": false
   },
   "outputs": [
    {
     "data": {
      "text/plain": [
       "'Written map to ../talkmap/'"
      ]
     },
     "execution_count": 5,
     "metadata": {},
     "output_type": "execute_result"
    }
   ],
   "source": [
    "m = getorg.orgmap.create_map_obj()\n",
    "getorg.orgmap.output_html_cluster_map(location_dict, folder_name=\"../talkmap\", hashed_usernames=False)"
   ]
  },
  {
   "cell_type": "code",
   "execution_count": null,
   "metadata": {
    "collapsed": true
   },
   "outputs": [],
   "source": []
  }
 ],
 "metadata": {
  "anaconda-cloud": {},
  "kernelspec": {
   "display_name": "Elements38",
   "language": "python",
   "name": "python3"
  },
  "language_info": {
   "codemirror_mode": {
    "name": "ipython",
    "version": 3
   },
   "file_extension": ".py",
   "mimetype": "text/x-python",
   "name": "python",
   "nbconvert_exporter": "python",
   "pygments_lexer": "ipython3",
   "version": "3.8.18"
  }
 },
 "nbformat": 4,
 "nbformat_minor": 0
}
