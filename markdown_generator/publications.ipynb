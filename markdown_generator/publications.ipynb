{
 "cells": [
  {
   "cell_type": "markdown",
   "metadata": {
    "deletable": true,
    "editable": true
   },
   "source": [
    "# Publications markdown generator for academicpages\n",
    "\n",
    "Takes a TSV of publications with metadata and converts them for use with [academicpages.github.io](academicpages.github.io). This is an interactive Jupyter notebook ([see more info here](http://jupyter-notebook-beginner-guide.readthedocs.io/en/latest/what_is_jupyter.html)). The core python code is also in `publications.py`. Run either from the `markdown_generator` folder after replacing `publications.tsv` with one containing your data.\n",
    "\n",
    "TODO: Make this work with BibTex and other databases of citations, rather than Stuart's non-standard TSV format and citation style.\n"
   ]
  },
  {
   "cell_type": "markdown",
   "metadata": {},
   "source": [
    "## Data format\n",
    "\n",
    "The TSV needs to have the following columns: pub_date, title, venue, excerpt, citation, site_url, and paper_url, with a header at the top. \n",
    "\n",
    "- `excerpt` and `paper_url` can be blank, but the others must have values. \n",
    "- `pub_date` must be formatted as YYYY-MM-DD.\n",
    "- `url_slug` will be the descriptive part of the .md file and the permalink URL for the page about the paper. The .md file will be `YYYY-MM-DD-[url_slug].md` and the permalink will be `https://[yourdomain]/publications/YYYY-MM-DD-[url_slug]`\n",
    "\n",
    "This is how the raw file looks (it doesn't look pretty, use a spreadsheet or other program to edit and create)."
   ]
  },
  {
   "cell_type": "code",
   "execution_count": 1,
   "metadata": {
    "collapsed": false
   },
   "outputs": [
    {
     "name": "stdout",
     "output_type": "stream",
     "text": [
      "pub_date,title,venue,excerpt,citation,url_slug,paper_url\n",
      "2023-04-10,\"Project Elements: A computational entity-component-system in a scene-graph pythonic framework, for a neural, geometric computer graphics curriculum\",\"Eurographics 2023 - Education Papers \",\"We present the Elements project, a lightweight, open-source, computational science and computer graphics (CG) framework, tailored for educational needs, that offers, for the first time, the advantages of an Entity-Component-System (ECS) along with the rapid prototyping convenience of a Scenegraph-based pythonic framework. This novelty allows advances in the teaching of CG: from heterogeneous directed acyclic graphs and depth-first traversals, to animation, skinning, geometric algebra and shader-based components rendered via unique systems all the way to their representation as graph neural networks for 3D scientific visualization.\",\"Papagiannakis, G., Kamarianakis, M., Protopsaltis, A., Angelis, D., Zikas, P., \"\"Project Elements: A computational entity-component-system in a scenegraph pythonic framework, for a neural, geometric computer graphics curriculum\"\", in Eurographics 2023 - Education Papers (eds. Magana & Zara, A.), The Eurographics Association, doi:10.2312/eged.20231015, 2023\",paper-conference-38,http://papagiannakis.github.io/files/P38-2023.pdf\n",
      "2023-03-20,MAGES 4.0: Accelerating the World�s Transition to VR Training and Democratizing the Authoring of the Medical Metaverse,\"IEEE Comput. Graph. Appl. \",\"In this work, we propose MAGES 4.0, a novel software development kit to accelerate the creation of collaborative medical training applications in virtual/augmented reality (VR/AR). Our solution is essentially a low-code metaverse authoring platform for developers to rapidly prototype high-fidelity and high-complexity medical simulations. MAGES breaks the authoring boundaries across extended reality, since networked participants can also collaborate using different VR/AR as well as mobile and desktop devices, in the same metaverse world. With MAGES we propose an upgrade to the outdated 150-year-old master�apprentice medical training model. Our platform incorporates, in a nutshell, the following novelties: 1) 5G edge-cloud remote rendering and physics dissection layer, 2) realistic real-time simulation of organic tissues as soft-bodies under 10 ms, 3) a highly realistic cutting and tearing algorithm, 4) neural network assessment for user profiling and, 5) a VR recorder to record and replay or debrief the training simulation from any perspective\",\"Zikas, P., Protopsaltis, A., Lydatakis, N., Kentros, M., Geronikolakis, S., Kateros, S., Kamarianakis, M., Evangelou, G., Filippidis, A., Grigoriou, E., Angelis, D., Tamiolakis, M., Dodis, M., Kokiadis, G., Petropoulos, J., Pateraki, M., Papagiannakis, G., \"\"MAGES 4.0: Accelerating the World's Transition to VR Training and Democratizing the Authoring of the Medical Metaverse\"\", IEEE Comput. Graph. Appl. 43, 2, 43-56. DOI:https://doi.org/10.1109/mcg.2023.3242686, 2023\",paper-journal-39,https://ieeexplore.ieee.org/document/10038619\n",
      "2014-04-20,\" glGA: an OpenGL Geometric Application framework for a modern, shader-based computer graphics curriculum\",\"Eurographics 2014 - Education Papers \",\"This paper presents the open-source glGA (Opengl Geometric Application) framework, a lightweight, shaderbased, comprehensive and easy to understand computer graphics (CG) teaching C++ system that is used for educational purposes, with emphasis on modern graphics and GPU application programming. This framework with the accompanying examples and assignments has been employed in the last three Semesters in two different courses at the Computer Science Department of the University of Crete, Greece. It encompasses four basic Examples and six Sample Assignments for computer graphics educational purposes that support all major desktop and mobile platforms, such as Windows, Linux, MacOSX and iOS using the same code base. We argue about the extensibility of this system, referring to an outstanding postgraduate project built on top of glGA for the creation of an Augmented Reality Environment, in which life-size, virtual characters exist in a marker-less real scene. Subsequently, we present the learning results of the adoption of this CG framework by both undergraduate and postgraduate university courses as far as the success rate and student grasp of major, modern, shader-based CG topics is concerned. Finally, we summarize the novel educative features that are implemented in glGA, in comparison with other systems, as a medium for improving the teaching of modern CG and GPU application programming\",\"P19.\tPapagiannakis, G., Papanikolaou, P., Greassidou, E., and Trahanias, P., glGA: an OpenGL Geometric Application framework for a \n",
      "modern, shader-based computer graphics curriculum. Eurographics2014, Education Papers, 1�8, Strasbourg, April 2014\",paper-conference-19,\"https://diglib.eg.org/handle/10.2312/eged.20141026.009-016 \"\n",
      "2013-11-15,Geometric algebra rotors for skinned character animation blending,ACM SIGGRAPH Asia 2013,\"The main goal and contribution of this work is to show that (automatically generated) computer implementations of geometric algebra (GA) can perform at a faster level compared to standard (dual) quaternion geometry implementations for real-time character animation blending. By this we mean that if some piece of geometry (e.g. Quaternions) is implemented through geometric algebra, the result is as efficient in terms of visual quality and even faster (in terms of computation time and memory usage) as the traditional quaternion and dual quaternion algebra implementation. This should be so even without taking into account certain algorithmic enhancements that geometric algebra may allow in selected applications. This work describes two implementation approaches for quaternion interpolation using Euclidean GA rotors for skinned character animation blending. It also lays the foundation so that GA can be employed for further calculations (skinning, rendering) under a unified geometry computation framework.\",\"George Papagiannakis. 2013. Geometric algebra rotors for skinned character animation blending. In SIGGRAPH Asia 2013 Technical Briefs (SA '13). Association for Computing Machinery, New York, NY, USA, Article 11, 1-6. https://doi.org/10.1145/2542355.2542369\",paper-conference-18,https://dl.acm.org/doi/abs/10.1145/2542355.2542369\n",
      "2003-07-25,\"VHD++ Framework: Extendible Game Engine with Reusable Components, for VR/AR R&D featuring Advanced Virtual Character Simulation Technologies\",Computer Graphics International 2003,\"This paper presents the architecture of the VHD++ real-time development framework that after several years of intensive research, design, and development effort has been released and enters its validation phase. This paper discusses the key aspects involved in architectural structure, design and practical implementation of an efficient, flexible and extendible real-time software framework based on the modern 3D game-engine design principles. This framework supports researchers and application developers with rapid, component based development of VR/AR systems featuring advanced virtual character simulation technologies. The discussion covers motivation, main concepts, survey of related work, the main functional and design requirements, design principles and key architectural elements. It concludes with the initial validation results including overview of existing VHD++ based VR/AR virtual character simulation applications\",\"Ponder, M., Papagiannakis, G., Molet, T., Magnenat-Thalmann, N., Thalmann, D.,\n",
      "VHD++ Framework: Extendible Game Engine with Reusable Components, for VR/AR R&D featuring Advanced Virtual Character Simulation Technologies, Proc. of Computer Graphics International03, pp. 96-104, IEEE Computer Society Press, Tokyo, July 2003\",paper-conference-7,https://citeseerx.ist.psu.edu/document?repid=rep1&type=pdf&doi=71f106e688533a83e2b3eed62e264e06595f170c\n",
      "2015-11-01,A fast and robust pipeline for populating mobile AR scenes with gamified virtual characters,ACM SIGGRAPH Asia 2015,\"In this work we present a complete methodology for robust authoring of AR virtual characters powered from a versatile character animation framework (Smartbody), using only mobile devices\",\"Papaefthymiou, M., Feng, A., Shapiro, A., Papagiannakis, G., “A fast and robust pipeline for populating mobile AR scenes with gamified virtual characters”. ACM SIGGRAPH-ASIA 2015, Symposium On Mobile Graphics and Interactive Applications, Kobe, ACM Press, November 2015\",paper-conference-22,http://papagiannakis.github.io/files/P22-2015-PapaefthymiouGP.pdf"
     ]
    }
   ],
   "source": [
    "!cat publications.csv"
   ]
  },
  {
   "cell_type": "markdown",
   "metadata": {},
   "source": [
    "## Import pandas\n",
    "\n",
    "We are using the very handy pandas library for dataframes."
   ]
  },
  {
   "cell_type": "code",
   "execution_count": 2,
   "metadata": {
    "collapsed": true,
    "deletable": true,
    "editable": true
   },
   "outputs": [],
   "source": [
    "import pandas as pd"
   ]
  },
  {
   "cell_type": "markdown",
   "metadata": {},
   "source": [
    "## Import TSV\n",
    "\n",
    "Pandas makes this easy with the read_csv function. We are using a TSV, so we specify the separator as a tab, or `\\t`.\n",
    "\n",
    "I found it important to put this data in a tab-separated values format, because there are a lot of commas in this kind of data and comma-separated values can get messed up. However, you can modify the import statement, as pandas also has read_excel(), read_json(), and others."
   ]
  },
  {
   "cell_type": "code",
   "execution_count": 3,
   "metadata": {
    "collapsed": false,
    "deletable": true,
    "editable": true
   },
   "outputs": [
    {
     "data": {
      "text/html": [
       "<div>\n",
       "<style scoped>\n",
       "    .dataframe tbody tr th:only-of-type {\n",
       "        vertical-align: middle;\n",
       "    }\n",
       "\n",
       "    .dataframe tbody tr th {\n",
       "        vertical-align: top;\n",
       "    }\n",
       "\n",
       "    .dataframe thead th {\n",
       "        text-align: right;\n",
       "    }\n",
       "</style>\n",
       "<table border=\"1\" class=\"dataframe\">\n",
       "  <thead>\n",
       "    <tr style=\"text-align: right;\">\n",
       "      <th></th>\n",
       "      <th>pub_date</th>\n",
       "      <th>title</th>\n",
       "      <th>venue</th>\n",
       "      <th>excerpt</th>\n",
       "      <th>citation</th>\n",
       "      <th>url_slug</th>\n",
       "      <th>paper_url</th>\n",
       "    </tr>\n",
       "  </thead>\n",
       "  <tbody>\n",
       "    <tr>\n",
       "      <th>0</th>\n",
       "      <td>2023-04-10</td>\n",
       "      <td>Project Elements: A computational entity-compo...</td>\n",
       "      <td>Eurographics 2023 - Education Papers</td>\n",
       "      <td>We present the Elements project, a lightweight...</td>\n",
       "      <td>Papagiannakis, G., Kamarianakis, M., Protopsal...</td>\n",
       "      <td>paper-conference-38</td>\n",
       "      <td>http://papagiannakis.github.io/files/P38-2023.pdf</td>\n",
       "    </tr>\n",
       "    <tr>\n",
       "      <th>1</th>\n",
       "      <td>2023-03-20</td>\n",
       "      <td>MAGES 4.0: Accelerating the Worldï¿½s Transiti...</td>\n",
       "      <td>IEEE Comput. Graph. Appl.</td>\n",
       "      <td>In this work, we propose MAGES 4.0, a novel so...</td>\n",
       "      <td>Zikas, P., Protopsaltis, A., Lydatakis, N., Ke...</td>\n",
       "      <td>paper-journal-39</td>\n",
       "      <td>https://ieeexplore.ieee.org/document/10038619</td>\n",
       "    </tr>\n",
       "    <tr>\n",
       "      <th>2</th>\n",
       "      <td>2014-04-20</td>\n",
       "      <td>glGA: an OpenGL Geometric Application framewo...</td>\n",
       "      <td>Eurographics 2014 - Education Papers</td>\n",
       "      <td>This paper presents the open-source glGA (Open...</td>\n",
       "      <td>P19.\\tPapagiannakis, G., Papanikolaou, P., Gre...</td>\n",
       "      <td>paper-conference-19</td>\n",
       "      <td>https://diglib.eg.org/handle/10.2312/eged.2014...</td>\n",
       "    </tr>\n",
       "    <tr>\n",
       "      <th>3</th>\n",
       "      <td>2013-11-15</td>\n",
       "      <td>Geometric algebra rotors for skinned character...</td>\n",
       "      <td>ACM SIGGRAPH Asia 2013</td>\n",
       "      <td>The main goal and contribution of this work is...</td>\n",
       "      <td>George Papagiannakis. 2013. Geometric algebra ...</td>\n",
       "      <td>paper-conference-18</td>\n",
       "      <td>https://dl.acm.org/doi/abs/10.1145/2542355.254...</td>\n",
       "    </tr>\n",
       "    <tr>\n",
       "      <th>4</th>\n",
       "      <td>2003-07-25</td>\n",
       "      <td>VHD++ Framework: Extendible Game Engine with R...</td>\n",
       "      <td>Computer Graphics International 2003</td>\n",
       "      <td>This paper presents the architecture of the VH...</td>\n",
       "      <td>Ponder, M., Papagiannakis, G., Molet, T., Magn...</td>\n",
       "      <td>paper-conference-7</td>\n",
       "      <td>https://citeseerx.ist.psu.edu/document?repid=r...</td>\n",
       "    </tr>\n",
       "    <tr>\n",
       "      <th>5</th>\n",
       "      <td>2015-11-01</td>\n",
       "      <td>A fast and robust pipeline for populating mobi...</td>\n",
       "      <td>ACM SIGGRAPH Asia 2015</td>\n",
       "      <td>In this work we present a complete methodology...</td>\n",
       "      <td>Papaefthymiou, M., Feng, A., Shapiro, A., Papa...</td>\n",
       "      <td>paper-conference-22</td>\n",
       "      <td>http://papagiannakis.github.io/files/P22-2015-...</td>\n",
       "    </tr>\n",
       "  </tbody>\n",
       "</table>\n",
       "</div>"
      ],
      "text/plain": [
       "     pub_date                                              title  \\\n",
       "0  2023-04-10  Project Elements: A computational entity-compo...   \n",
       "1  2023-03-20  MAGES 4.0: Accelerating the Worldï¿½s Transiti...   \n",
       "2  2014-04-20   glGA: an OpenGL Geometric Application framewo...   \n",
       "3  2013-11-15  Geometric algebra rotors for skinned character...   \n",
       "4  2003-07-25  VHD++ Framework: Extendible Game Engine with R...   \n",
       "5  2015-11-01  A fast and robust pipeline for populating mobi...   \n",
       "\n",
       "                                   venue  \\\n",
       "0  Eurographics 2023 - Education Papers    \n",
       "1             IEEE Comput. Graph. Appl.    \n",
       "2  Eurographics 2014 - Education Papers    \n",
       "3                 ACM SIGGRAPH Asia 2013   \n",
       "4   Computer Graphics International 2003   \n",
       "5                 ACM SIGGRAPH Asia 2015   \n",
       "\n",
       "                                             excerpt  \\\n",
       "0  We present the Elements project, a lightweight...   \n",
       "1  In this work, we propose MAGES 4.0, a novel so...   \n",
       "2  This paper presents the open-source glGA (Open...   \n",
       "3  The main goal and contribution of this work is...   \n",
       "4  This paper presents the architecture of the VH...   \n",
       "5  In this work we present a complete methodology...   \n",
       "\n",
       "                                            citation             url_slug  \\\n",
       "0  Papagiannakis, G., Kamarianakis, M., Protopsal...  paper-conference-38   \n",
       "1  Zikas, P., Protopsaltis, A., Lydatakis, N., Ke...     paper-journal-39   \n",
       "2  P19.\\tPapagiannakis, G., Papanikolaou, P., Gre...  paper-conference-19   \n",
       "3  George Papagiannakis. 2013. Geometric algebra ...  paper-conference-18   \n",
       "4  Ponder, M., Papagiannakis, G., Molet, T., Magn...   paper-conference-7   \n",
       "5  Papaefthymiou, M., Feng, A., Shapiro, A., Papa...  paper-conference-22   \n",
       "\n",
       "                                           paper_url  \n",
       "0  http://papagiannakis.github.io/files/P38-2023.pdf  \n",
       "1      https://ieeexplore.ieee.org/document/10038619  \n",
       "2  https://diglib.eg.org/handle/10.2312/eged.2014...  \n",
       "3  https://dl.acm.org/doi/abs/10.1145/2542355.254...  \n",
       "4  https://citeseerx.ist.psu.edu/document?repid=r...  \n",
       "5  http://papagiannakis.github.io/files/P22-2015-...  "
      ]
     },
     "execution_count": 3,
     "metadata": {},
     "output_type": "execute_result"
    }
   ],
   "source": [
    "publications = pd.read_csv(\"publications.csv\", sep=\",\", header=0, encoding='ISO-8859-1')\n",
    "publications\n"
   ]
  },
  {
   "cell_type": "markdown",
   "metadata": {},
   "source": [
    "## Escape special characters\n",
    "\n",
    "YAML is very picky about how it takes a valid string, so we are replacing single and double quotes (and ampersands) with their HTML encoded equivilents. This makes them look not so readable in raw format, but they are parsed and rendered nicely."
   ]
  },
  {
   "cell_type": "code",
   "execution_count": 4,
   "metadata": {
    "collapsed": true,
    "deletable": true,
    "editable": true
   },
   "outputs": [],
   "source": [
    "html_escape_table = {\n",
    "    \"&\": \"&amp;\",\n",
    "    '\"': \"&quot;\",\n",
    "    \"'\": \"&apos;\"\n",
    "    }\n",
    "\n",
    "def html_escape(text):\n",
    "    \"\"\"Produce entities within text.\"\"\"\n",
    "    return \"\".join(html_escape_table.get(c,c) for c in text)"
   ]
  },
  {
   "cell_type": "markdown",
   "metadata": {},
   "source": [
    "## Creating the markdown files\n",
    "\n",
    "This is where the heavy lifting is done. This loops through all the rows in the TSV dataframe, then starts to concatentate a big string (```md```) that contains the markdown for each type. It does the YAML metadata first, then does the description for the individual page."
   ]
  },
  {
   "cell_type": "code",
   "execution_count": 5,
   "metadata": {
    "collapsed": false,
    "deletable": true,
    "editable": true
   },
   "outputs": [],
   "source": [
    "import os\n",
    "for row, item in publications.iterrows():\n",
    "    \n",
    "    md_filename = str(item.pub_date) + \"-\" + item.url_slug + \".md\"\n",
    "    html_filename = str(item.pub_date) + \"-\" + item.url_slug\n",
    "    year = item.pub_date[:4]\n",
    "    \n",
    "    ## YAML variables\n",
    "    \n",
    "    md = \"---\\ntitle: \\\"\"   + item.title + '\"\\n'\n",
    "    \n",
    "    md += \"\"\"collection: publications\"\"\"\n",
    "    \n",
    "    md += \"\"\"\\npermalink: /publication/\"\"\" + html_filename\n",
    "    \n",
    "    if len(str(item.excerpt)) > 5:\n",
    "        md += \"\\nexcerpt: '\" + html_escape(item.excerpt) + \"'\"\n",
    "    \n",
    "    md += \"\\ndate: \" + str(item.pub_date) \n",
    "    \n",
    "    md += \"\\nvenue: '\" + html_escape(item.venue) + \"'\"\n",
    "    \n",
    "    if len(str(item.paper_url)) > 5:\n",
    "        md += \"\\npaperurl: '\" + item.paper_url + \"'\"\n",
    "    \n",
    "    md += \"\\ncitation: '\" + html_escape(item.citation) + \"'\"\n",
    "    \n",
    "    md += \"\\n---\"\n",
    "    \n",
    "    ## Markdown description for individual page\n",
    "        \n",
    "    if len(str(item.excerpt)) > 5:\n",
    "        md += \"\\n\" + html_escape(item.excerpt) + \"\\n\"\n",
    "    \n",
    "    if len(str(item.paper_url)) > 5:\n",
    "        md += \"\\n[Download paper here](\" + item.paper_url + \")\\n\" \n",
    "        \n",
    "    #md += \"\\nRecommended citation: \" + item.citation\n",
    "    \n",
    "    md_filename = os.path.basename(md_filename)\n",
    "       \n",
    "    with open(\"../_publications/\" + md_filename, 'w') as f:\n",
    "        f.write(md)"
   ]
  },
  {
   "cell_type": "markdown",
   "metadata": {},
   "source": [
    "These files are in the publications directory, one directory below where we're working from."
   ]
  },
  {
   "cell_type": "code",
   "execution_count": 6,
   "metadata": {
    "collapsed": false,
    "deletable": true,
    "editable": true
   },
   "outputs": [
    {
     "name": "stdout",
     "output_type": "stream",
     "text": [
      "2003-07-25-paper-conference-7.md       2015-11-01-paper-conference-22.md\n",
      "2010-10-01-paper-title-number-2.md.old 2023-03-20-paper-journal-39.md\n",
      "2013-11-15-paper-conference-18.md      2023-04-10-paper-conference-38.md\n",
      "2014-04-20-paper-conference-19.md      2023-07-08-ComputationalMedicalXR.md\n"
     ]
    }
   ],
   "source": [
    "!ls ../_publications/"
   ]
  },
  {
   "cell_type": "code",
   "execution_count": 7,
   "metadata": {
    "collapsed": false,
    "deletable": true,
    "editable": true
   },
   "outputs": [
    {
     "name": "stdout",
     "output_type": "stream",
     "text": [
      "---\n",
      "title: \"MAGES 4.0: Accelerating the Worldï¿½s Transition to VR Training and Democratizing the Authoring of the Medical Metaverse\"\n",
      "collection: publications\n",
      "permalink: /publication/2023-03-20-paper-journal-39\n",
      "excerpt: 'In this work, we propose MAGES 4.0, a novel software development kit to accelerate the creation of collaborative medical training applications in virtual/augmented reality (VR/AR). Our solution is essentially a low-code metaverse authoring platform for developers to rapidly prototype high-fidelity and high-complexity medical simulations. MAGES breaks the authoring boundaries across extended reality, since networked participants can also collaborate using different VR/AR as well as mobile and desktop devices, in the same metaverse world. With MAGES we propose an upgrade to the outdated 150-year-old masterï¿½apprentice medical training model. Our platform incorporates, in a nutshell, the following novelties: 1) 5G edge-cloud remote rendering and physics dissection layer, 2) realistic real-time simulation of organic tissues as soft-bodies under 10 ms, 3) a highly realistic cutting and tearing algorithm, 4) neural network assessment for user profiling and, 5) a VR recorder to record and replay or debrief the training simulation from any perspective'\n",
      "date: 2023-03-20\n",
      "venue: 'IEEE Comput. Graph. Appl. '\n",
      "paperurl: 'https://ieeexplore.ieee.org/document/10038619'\n",
      "citation: 'Zikas, P., Protopsaltis, A., Lydatakis, N., Kentros, M., Geronikolakis, S., Kateros, S., Kamarianakis, M., Evangelou, G., Filippidis, A., Grigoriou, E., Angelis, D., Tamiolakis, M., Dodis, M., Kokiadis, G., Petropoulos, J., Pateraki, M., Papagiannakis, G., &quot;MAGES 4.0: Accelerating the World&apos;s Transition to VR Training and Democratizing the Authoring of the Medical Metaverse&quot;, IEEE Comput. Graph. Appl. 43, 2, 43-56. DOI:https://doi.org/10.1109/mcg.2023.3242686, 2023'\n",
      "---\n",
      "In this work, we propose MAGES 4.0, a novel software development kit to accelerate the creation of collaborative medical training applications in virtual/augmented reality (VR/AR). Our solution is essentially a low-code metaverse authoring platform for developers to rapidly prototype high-fidelity and high-complexity medical simulations. MAGES breaks the authoring boundaries across extended reality, since networked participants can also collaborate using different VR/AR as well as mobile and desktop devices, in the same metaverse world. With MAGES we propose an upgrade to the outdated 150-year-old masterï¿½apprentice medical training model. Our platform incorporates, in a nutshell, the following novelties: 1) 5G edge-cloud remote rendering and physics dissection layer, 2) realistic real-time simulation of organic tissues as soft-bodies under 10 ms, 3) a highly realistic cutting and tearing algorithm, 4) neural network assessment for user profiling and, 5) a VR recorder to record and replay or debrief the training simulation from any perspective\n",
      "\n",
      "[Download paper here](https://ieeexplore.ieee.org/document/10038619)\n"
     ]
    }
   ],
   "source": [
    "!cat ../_publications/2023-03-20-paper-journal-39.md \n"
   ]
  },
  {
   "cell_type": "code",
   "execution_count": null,
   "metadata": {
    "collapsed": true,
    "deletable": true,
    "editable": true
   },
   "outputs": [],
   "source": []
  }
 ],
 "metadata": {
  "kernelspec": {
   "display_name": "Python 3",
   "language": "python",
   "name": "python3"
  },
  "language_info": {
   "codemirror_mode": {
    "name": "ipython",
    "version": 3
   },
   "file_extension": ".py",
   "mimetype": "text/x-python",
   "name": "python",
   "nbconvert_exporter": "python",
   "pygments_lexer": "ipython3",
   "version": "3.8.15"
  }
 },
 "nbformat": 4,
 "nbformat_minor": 0
}
